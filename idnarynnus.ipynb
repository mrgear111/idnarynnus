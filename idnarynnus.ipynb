{
 "cells": [
  {
   "cell_type": "markdown",
   "id": "f809aa40",
   "metadata": {},
   "source": [
    "\n",
    "# 📚 Zipf’s Law in Nicki Minaj’s Lyrics\n",
    "\n",
    "Zipf's Law is a fascinating principle of natural language: it states that in any corpus of natural language, the frequency of a word is inversely proportional to its rank.  \n",
    "That is, the second most common word appears about half as often as the most common, the third one-third as often, and so on.\n",
    "\n",
    "In this notebook, we analyze the lyrics of Nicki Minaj to see if her lyrics follow this behavior. This helps us explore language structure even in artistic domains like music.\n"
   ]
  },
  {
   "cell_type": "code",
   "execution_count": null,
   "id": "af914d2d",
   "metadata": {},
   "outputs": [],
   "source": [
    "\n",
    "import pandas as pd\n",
    "import re\n",
    "from collections import Counter\n",
    "import matplotlib.pyplot as plt\n",
    "import numpy as np\n",
    "import seaborn as sns\n",
    "import nltk\n",
    "from nltk.corpus import stopwords\n",
    "from nltk.tokenize import word_tokenize\n",
    "\n",
    "# nltk.download('punkt')\n",
    "# nltk.download('stopwords')\n",
    "\n",
    "sns.set(style=\"whitegrid\")\n"
   ]
  },
  {
   "cell_type": "code",
   "execution_count": null,
   "id": "26630874",
   "metadata": {},
   "outputs": [],
   "source": [
    "\n",
    "from google.colab import files\n",
    "uploaded = files.upload()  # Upload NickiMinaj (1).csv here\n",
    "\n",
    "df = pd.read_csv(next(iter(uploaded)))\n",
    "df.head()\n"
   ]
  },
  {
   "cell_type": "code",
   "execution_count": null,
   "id": "6bacf85e",
   "metadata": {},
   "outputs": [],
   "source": [
    "\n",
    "text = \" \".join(df['Lyrics'].dropna().astype(str)).lower()\n",
    "words = word_tokenize(re.sub(r'[^a-zA-Z\\s]', '', text))\n",
    "filtered_words = [w for w in words if w not in stopwords.words('english') and len(w) > 1]\n",
    "\n",
    "word_freq = Counter(filtered_words)\n"
   ]
  },
  {
   "cell_type": "code",
   "execution_count": null,
   "id": "99bc2354",
   "metadata": {},
   "outputs": [],
   "source": [
    "\n",
    "top_words = word_freq.most_common(20)\n",
    "words_, freqs = zip(*top_words)\n",
    "\n",
    "plt.figure(figsize=(12,6))\n",
    "sns.barplot(x=list(words_), y=list(freqs), palette=\"viridis\")\n",
    "plt.title(\"Top 20 Most Frequent Words in Nicki Minaj's Lyrics\")\n",
    "plt.xticks(rotation=45)\n",
    "plt.ylabel(\"Frequency\")\n",
    "plt.show()\n"
   ]
  },
  {
   "cell_type": "code",
   "execution_count": null,
   "id": "ce160775",
   "metadata": {},
   "outputs": [],
   "source": [
    "\n",
    "plt.figure(figsize=(10,6))\n",
    "plt.hist(word_freq.values(), bins=50, color='skyblue', edgecolor='black')\n",
    "plt.title(\"Histogram of Word Frequencies\")\n",
    "plt.xlabel(\"Frequency\")\n",
    "plt.ylabel(\"Number of Words\")\n",
    "plt.show()\n"
   ]
  },
  {
   "cell_type": "code",
   "execution_count": null,
   "id": "26e2d34f",
   "metadata": {},
   "outputs": [],
   "source": [
    "\n",
    "sorted_freqs = sorted(word_freq.values(), reverse=True)\n",
    "ranks = range(1, len(sorted_freqs)+1)\n",
    "\n",
    "plt.figure(figsize=(10,6))\n",
    "plt.plot(ranks, sorted_freqs)\n",
    "plt.xscale('log')\n",
    "plt.yscale('log')\n",
    "plt.title(\"Zipf’s Law: Rank vs Frequency (Log-Log)\")\n",
    "plt.xlabel(\"Rank (log scale)\")\n",
    "plt.ylabel(\"Frequency (log scale)\")\n",
    "plt.grid(True)\n",
    "plt.show()\n"
   ]
  },
  {
   "cell_type": "code",
   "execution_count": null,
   "id": "250691c7",
   "metadata": {},
   "outputs": [],
   "source": [
    "\n",
    "log_ranks = np.log10(ranks)\n",
    "log_freqs = np.log10(sorted_freqs)\n",
    "slope, intercept = np.polyfit(log_ranks, log_freqs, 1)\n",
    "\n",
    "plt.figure(figsize=(10,6))\n",
    "plt.plot(log_ranks, log_freqs, label='Data')\n",
    "plt.plot(log_ranks, slope*log_ranks + intercept, label=f'Fit: y={slope:.2f}x + {intercept:.2f}', color='red')\n",
    "plt.title(\"Log-Log Plot with Regression Line\")\n",
    "plt.xlabel(\"log10(Rank)\")\n",
    "plt.ylabel(\"log10(Frequency)\")\n",
    "plt.legend()\n",
    "plt.grid(True)\n",
    "plt.show()\n"
   ]
  },
  {
   "cell_type": "markdown",
   "id": "41359d4c",
   "metadata": {},
   "source": [
    "\n",
    "## ✅ Conclusion\n",
    "\n",
    "Our analysis of Nicki Minaj's lyrics shows that word frequencies follow Zipf’s Law quite well.  \n",
    "From the log-log plot and regression fit, we observe a near-linear relationship, with a slope close to -1 — a signature of Zipf’s Law.\n",
    "\n",
    "This reaffirms that even in artistic expressions like rap lyrics, natural language patterns persist.\n"
   ]
  }
 ],
 "metadata": {
  "colab": {
   "provenance": []
  },
  "kernelspec": {
   "display_name": "Python 3",
   "name": "python3"
  },
  "language_info": {
   "name": "python"
  }
 },
 "nbformat": 4,
 "nbformat_minor": 0
}
